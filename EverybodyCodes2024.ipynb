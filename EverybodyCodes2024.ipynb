{
 "cells": [
  {
   "cell_type": "markdown",
   "id": "b52d4dea-a770-472f-bc4f-6dacdacd6b3f",
   "metadata": {},
   "source": [
    "# Everybody Codes 2024"
   ]
  },
  {
   "cell_type": "markdown",
   "id": "274f2c79-5f1b-4ebe-8257-da7274499648",
   "metadata": {},
   "source": [
    "## Introduction"
   ]
  },
  {
   "cell_type": "code",
   "execution_count": 1,
   "id": "4120315b-b2bf-4ab3-b91b-d05d55c83a30",
   "metadata": {},
   "outputs": [],
   "source": [
    "def Input(day, part, year=2024):\n",
    "    directory = '{}'.format(year)\n",
    "    filename = directory + '/everybody_codes_e{}_q{}_p{}.txt'.format(year, str(day).rjust(2, '0'), part)\n",
    "    return open(filename)"
   ]
  },
  {
   "cell_type": "markdown",
   "id": "c5c65488-f67f-4909-a438-74d26f7cdda0",
   "metadata": {},
   "source": [
    "## Day 1"
   ]
  },
  {
   "cell_type": "markdown",
   "id": "618ef716-3ed5-472f-be02-6ea85f4a4e15",
   "metadata": {},
   "source": [
    "### Part 1"
   ]
  },
  {
   "cell_type": "code",
   "execution_count": 2,
   "id": "f57ab711-e6da-4c4d-bbca-4bb645102355",
   "metadata": {},
   "outputs": [],
   "source": [
    "potions = {\n",
    "    \"A\": 0,\n",
    "    \"B\": 1,\n",
    "    \"C\": 3,\n",
    "    \"D\": 5\n",
    "}"
   ]
  },
  {
   "cell_type": "code",
   "execution_count": 3,
   "id": "8e459a7d-9522-48b7-b8eb-7f01f2e85672",
   "metadata": {},
   "outputs": [],
   "source": [
    "def list_of_scores(str, dict, group=1):\n",
    "    str = [str[i: i + group] for i in range(0, len(str), group)]\n",
    "    return [score(e, potions, group) for e in str]\n",
    "\n",
    "def score(e, dict, group=1):\n",
    "    score = 0\n",
    "    addon = max(0, (group - 1) - e.count(\"x\"))\n",
    "    for f in e:\n",
    "        if f != \"x\":\n",
    "            score += dict.get(f, 0) + addon\n",
    "    return score "
   ]
  },
  {
   "cell_type": "code",
   "execution_count": 4,
   "id": "97dcfe07-d690-4b3b-8b01-d1ed0a0abb18",
   "metadata": {},
   "outputs": [],
   "source": [
    "teststr = \"ABBAC\"\n",
    "assert sum(list_of_scores(teststr, potions)) == 5"
   ]
  },
  {
   "cell_type": "code",
   "execution_count": 5,
   "id": "94f33960-61f9-427a-88a5-b5ee98cfe6f6",
   "metadata": {},
   "outputs": [
    {
     "data": {
      "text/plain": [
       "1324"
      ]
     },
     "execution_count": 5,
     "metadata": {},
     "output_type": "execute_result"
    }
   ],
   "source": [
    "inpa = str(Input(1, 1).read())\n",
    "sum(list_of_scores(inpa, potions))"
   ]
  },
  {
   "cell_type": "markdown",
   "id": "6de46c6b-d10e-49a6-a546-38a5c2818acf",
   "metadata": {},
   "source": [
    "### Part 2"
   ]
  },
  {
   "cell_type": "code",
   "execution_count": 6,
   "id": "86eaa7c8-fe4b-4af9-a013-75c83b8e1bca",
   "metadata": {},
   "outputs": [],
   "source": [
    "teststr = \"AxBCDDCAxD\"\n",
    "assert sum(list_of_scores(teststr, potions,group=2)) == 28"
   ]
  },
  {
   "cell_type": "code",
   "execution_count": 7,
   "id": "1cf5a4c0-e947-42eb-ba71-8b038e2553dc",
   "metadata": {},
   "outputs": [
    {
     "data": {
      "text/plain": [
       "5666"
      ]
     },
     "execution_count": 7,
     "metadata": {},
     "output_type": "execute_result"
    }
   ],
   "source": [
    "inpb = str(Input(1, 2).read())\n",
    "sum(list_of_scores(inpb, potions, 2))"
   ]
  },
  {
   "cell_type": "markdown",
   "id": "908039b7-817a-408c-99fa-7799de86d848",
   "metadata": {},
   "source": [
    "### Part 3"
   ]
  },
  {
   "cell_type": "code",
   "execution_count": 8,
   "id": "a1b6e993-b66a-4857-a13d-d5a14f86518b",
   "metadata": {},
   "outputs": [],
   "source": [
    "teststr = \"xBxAAABCDxCC\"\n",
    "assert sum(list_of_scores(teststr, potions,group=3)) == 30"
   ]
  },
  {
   "cell_type": "code",
   "execution_count": 9,
   "id": "e97d0a66-c355-4da7-b94e-1ef374c62809",
   "metadata": {},
   "outputs": [
    {
     "data": {
      "text/plain": [
       "27834"
      ]
     },
     "execution_count": 9,
     "metadata": {},
     "output_type": "execute_result"
    }
   ],
   "source": [
    "inpc = str(Input(1, 3).read())\n",
    "sum(list_of_scores(inpc, potions, 3))"
   ]
  },
  {
   "cell_type": "markdown",
   "id": "43eb74c2-8d4a-4df5-bee0-f33066eb0a34",
   "metadata": {},
   "source": [
    "## [Day 2 - The Runes of Power](https://everybody.codes/event/2024/quests/2)"
   ]
  },
  {
   "cell_type": "markdown",
   "id": "5e388844-928a-4aa4-bb4e-5216879bdd00",
   "metadata": {},
   "source": [
    "### Part 1"
   ]
  },
  {
   "cell_type": "code",
   "execution_count": 43,
   "id": "f6910988-216f-4844-8308-34a1172f8bca",
   "metadata": {},
   "outputs": [],
   "source": [
    "def parse(str):\n",
    "    str = str.split('\\n\\n')\n",
    "    words = str[0][6:].split(',')\n",
    "    str = str[1]\n",
    "    return words, str\n",
    "\n",
    "def count_words(words, str):\n",
    "    return [str.count(word) for word in words]"
   ]
  },
  {
   "cell_type": "code",
   "execution_count": 46,
   "id": "9af66d30-b540-49ac-8b34-5f5c689a753b",
   "metadata": {},
   "outputs": [],
   "source": [
    "teststr = \"WORDS:THE,OWE,MES,ROD,HER\\n\\nAWAKEN THE POWER ADORNED WITH THE FLAMES BRIGHT IRE\"\n",
    "assert sum(count_words(*parse(teststr))) == 4"
   ]
  },
  {
   "cell_type": "code",
   "execution_count": 47,
   "id": "683f2092-c03a-4e5b-b4da-f240e457eec5",
   "metadata": {},
   "outputs": [
    {
     "data": {
      "text/plain": [
       "[5, 4, 3, 9, 3, 8, 4]"
      ]
     },
     "execution_count": 47,
     "metadata": {},
     "output_type": "execute_result"
    }
   ],
   "source": [
    "inpa = Input(2, 1).read()\n",
    "count_words(*parse(inpa))"
   ]
  }
 ],
 "metadata": {
  "kernelspec": {
   "display_name": "Python 3 (ipykernel)",
   "language": "python",
   "name": "python3"
  },
  "language_info": {
   "codemirror_mode": {
    "name": "ipython",
    "version": 3
   },
   "file_extension": ".py",
   "mimetype": "text/x-python",
   "name": "python",
   "nbconvert_exporter": "python",
   "pygments_lexer": "ipython3",
   "version": "3.12.7"
  }
 },
 "nbformat": 4,
 "nbformat_minor": 5
}
