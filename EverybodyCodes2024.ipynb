{
 "cells": [
  {
   "cell_type": "markdown",
   "id": "b52d4dea-a770-472f-bc4f-6dacdacd6b3f",
   "metadata": {},
   "source": [
    "# Everybody Codes 2024"
   ]
  },
  {
   "cell_type": "markdown",
   "id": "274f2c79-5f1b-4ebe-8257-da7274499648",
   "metadata": {},
   "source": [
    "## Introduction"
   ]
  },
  {
   "cell_type": "code",
   "execution_count": 17,
   "id": "4120315b-b2bf-4ab3-b91b-d05d55c83a30",
   "metadata": {},
   "outputs": [],
   "source": [
    "def Input(day, part, year=2024):\n",
    "    directory = '{}'.format(year)\n",
    "    filename = directory + '/everybody_codes_e{}_q{}_p{}.txt'.format(year, str(day).rjust(2, '0'), part)\n",
    "    return open(filename)"
   ]
  },
  {
   "cell_type": "markdown",
   "id": "c5c65488-f67f-4909-a438-74d26f7cdda0",
   "metadata": {},
   "source": [
    "## Day 1"
   ]
  },
  {
   "cell_type": "code",
   "execution_count": 18,
   "id": "f57ab711-e6da-4c4d-bbca-4bb645102355",
   "metadata": {},
   "outputs": [],
   "source": [
    "potions = {\n",
    "    \"A\": 0,\n",
    "    \"B\": 1,\n",
    "    \"C\": 3\n",
    "}"
   ]
  },
  {
   "cell_type": "code",
   "execution_count": 23,
   "id": "8e459a7d-9522-48b7-b8eb-7f01f2e85672",
   "metadata": {},
   "outputs": [],
   "source": [
    "def list_of_scores(str, dict):\n",
    "    return [dict[e] for e in str.split(\"\")]"
   ]
  },
  {
   "cell_type": "code",
   "execution_count": 20,
   "id": "97dcfe07-d690-4b3b-8b01-d1ed0a0abb18",
   "metadata": {},
   "outputs": [],
   "source": [
    "teststr = \"ABBAC\"\n",
    "assert sum(list_of_scores(teststr, potions)) == 5"
   ]
  },
  {
   "cell_type": "code",
   "execution_count": 25,
   "id": "94f33960-61f9-427a-88a5-b5ee98cfe6f6",
   "metadata": {},
   "outputs": [
    {
     "name": "stdout",
     "output_type": "stream",
     "text": [
      "<_io.TextIOWrapper name='2024/everybody_codes_e2024_q01_p1.txt' mode='r' encoding='UTF-8'>\n"
     ]
    },
    {
     "ename": "AttributeError",
     "evalue": "'_io.TextIOWrapper' object has no attribute 'split'",
     "output_type": "error",
     "traceback": [
      "\u001b[0;31m---------------------------------------------------------------------------\u001b[0m",
      "\u001b[0;31mAttributeError\u001b[0m                            Traceback (most recent call last)",
      "Cell \u001b[0;32mIn[25], line 3\u001b[0m\n\u001b[1;32m      1\u001b[0m inp \u001b[38;5;241m=\u001b[39m Input(\u001b[38;5;241m1\u001b[39m, \u001b[38;5;241m1\u001b[39m)\n\u001b[1;32m      2\u001b[0m \u001b[38;5;28mprint\u001b[39m(inp)\n\u001b[0;32m----> 3\u001b[0m \u001b[43mlist_of_scores\u001b[49m\u001b[43m(\u001b[49m\u001b[43minp\u001b[49m\u001b[43m,\u001b[49m\u001b[43m \u001b[49m\u001b[43mpotions\u001b[49m\u001b[43m)\u001b[49m\n",
      "Cell \u001b[0;32mIn[23], line 2\u001b[0m, in \u001b[0;36mlist_of_scores\u001b[0;34m(str, dict)\u001b[0m\n\u001b[1;32m      1\u001b[0m \u001b[38;5;28;01mdef\u001b[39;00m \u001b[38;5;21mlist_of_scores\u001b[39m(\u001b[38;5;28mstr\u001b[39m, \u001b[38;5;28mdict\u001b[39m):\n\u001b[0;32m----> 2\u001b[0m     \u001b[38;5;28;01mreturn\u001b[39;00m [\u001b[38;5;28mdict\u001b[39m[e] \u001b[38;5;28;01mfor\u001b[39;00m e \u001b[38;5;129;01min\u001b[39;00m \u001b[38;5;28;43mstr\u001b[39;49m\u001b[38;5;241;43m.\u001b[39;49m\u001b[43msplit\u001b[49m(\u001b[38;5;124m\"\u001b[39m\u001b[38;5;124m\"\u001b[39m)]\n",
      "\u001b[0;31mAttributeError\u001b[0m: '_io.TextIOWrapper' object has no attribute 'split'"
     ]
    }
   ],
   "source": [
    "inp = Input(1, 1)\n",
    "print(inp)\n",
    "list_of_scores(inp, potions)"
   ]
  }
 ],
 "metadata": {
  "kernelspec": {
   "display_name": "Python 3 (ipykernel)",
   "language": "python",
   "name": "python3"
  },
  "language_info": {
   "codemirror_mode": {
    "name": "ipython",
    "version": 3
   },
   "file_extension": ".py",
   "mimetype": "text/x-python",
   "name": "python",
   "nbconvert_exporter": "python",
   "pygments_lexer": "ipython3",
   "version": "3.12.7"
  }
 },
 "nbformat": 4,
 "nbformat_minor": 5
}
