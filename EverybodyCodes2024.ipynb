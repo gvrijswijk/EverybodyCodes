{
 "cells": [
  {
   "cell_type": "markdown",
   "id": "b52d4dea-a770-472f-bc4f-6dacdacd6b3f",
   "metadata": {},
   "source": [
    "# Everybody Codes 2024"
   ]
  },
  {
   "cell_type": "markdown",
   "id": "274f2c79-5f1b-4ebe-8257-da7274499648",
   "metadata": {},
   "source": [
    "## Introduction"
   ]
  },
  {
   "cell_type": "code",
   "execution_count": 1,
   "id": "4120315b-b2bf-4ab3-b91b-d05d55c83a30",
   "metadata": {},
   "outputs": [],
   "source": [
    "def Input(day, part, year=2024):\n",
    "    directory = '{}'.format(year)\n",
    "    filename = directory + '/everybody_codes_e{}_q{}_p{}.txt'.format(year, str(day).rjust(2, '0'), part)\n",
    "    return open(filename)"
   ]
  },
  {
   "cell_type": "markdown",
   "id": "c5c65488-f67f-4909-a438-74d26f7cdda0",
   "metadata": {},
   "source": [
    "## [Quest 1: The Battle for the Farmlands](https://everybody.codes/event/2024/quests/1)"
   ]
  },
  {
   "cell_type": "markdown",
   "id": "618ef716-3ed5-472f-be02-6ea85f4a4e15",
   "metadata": {},
   "source": [
    "### Part 1"
   ]
  },
  {
   "cell_type": "code",
   "execution_count": 2,
   "id": "f57ab711-e6da-4c4d-bbca-4bb645102355",
   "metadata": {},
   "outputs": [],
   "source": [
    "potions = {\n",
    "    \"A\": 0,\n",
    "    \"B\": 1,\n",
    "    \"C\": 3,\n",
    "    \"D\": 5\n",
    "}"
   ]
  },
  {
   "cell_type": "code",
   "execution_count": 3,
   "id": "8e459a7d-9522-48b7-b8eb-7f01f2e85672",
   "metadata": {},
   "outputs": [],
   "source": [
    "def list_of_scores(str, dict, group=1):\n",
    "    str = [str[i: i + group] for i in range(0, len(str), group)]\n",
    "    return [score(e, potions, group) for e in str]\n",
    "\n",
    "def score(e, dict, group=1):\n",
    "    score = 0\n",
    "    addon = max(0, (group - 1) - e.count(\"x\"))\n",
    "    for f in e:\n",
    "        if f != \"x\":\n",
    "            score += dict.get(f, 0) + addon\n",
    "    return score "
   ]
  },
  {
   "cell_type": "code",
   "execution_count": 4,
   "id": "97dcfe07-d690-4b3b-8b01-d1ed0a0abb18",
   "metadata": {},
   "outputs": [],
   "source": [
    "teststr = \"ABBAC\"\n",
    "assert sum(list_of_scores(teststr, potions)) == 5"
   ]
  },
  {
   "cell_type": "code",
   "execution_count": 5,
   "id": "94f33960-61f9-427a-88a5-b5ee98cfe6f6",
   "metadata": {},
   "outputs": [
    {
     "data": {
      "text/plain": [
       "1324"
      ]
     },
     "execution_count": 5,
     "metadata": {},
     "output_type": "execute_result"
    }
   ],
   "source": [
    "inpa = str(Input(1, 1).read())\n",
    "sum(list_of_scores(inpa, potions))"
   ]
  },
  {
   "cell_type": "markdown",
   "id": "6de46c6b-d10e-49a6-a546-38a5c2818acf",
   "metadata": {},
   "source": [
    "### Part 2"
   ]
  },
  {
   "cell_type": "code",
   "execution_count": 6,
   "id": "86eaa7c8-fe4b-4af9-a013-75c83b8e1bca",
   "metadata": {},
   "outputs": [],
   "source": [
    "teststr = \"AxBCDDCAxD\"\n",
    "assert sum(list_of_scores(teststr, potions,group=2)) == 28"
   ]
  },
  {
   "cell_type": "code",
   "execution_count": 7,
   "id": "1cf5a4c0-e947-42eb-ba71-8b038e2553dc",
   "metadata": {},
   "outputs": [
    {
     "data": {
      "text/plain": [
       "5666"
      ]
     },
     "execution_count": 7,
     "metadata": {},
     "output_type": "execute_result"
    }
   ],
   "source": [
    "inpb = str(Input(1, 2).read())\n",
    "sum(list_of_scores(inpb, potions, 2))"
   ]
  },
  {
   "cell_type": "markdown",
   "id": "908039b7-817a-408c-99fa-7799de86d848",
   "metadata": {},
   "source": [
    "### Part 3"
   ]
  },
  {
   "cell_type": "code",
   "execution_count": 8,
   "id": "a1b6e993-b66a-4857-a13d-d5a14f86518b",
   "metadata": {},
   "outputs": [],
   "source": [
    "teststr = \"xBxAAABCDxCC\"\n",
    "assert sum(list_of_scores(teststr, potions,group=3)) == 30"
   ]
  },
  {
   "cell_type": "code",
   "execution_count": 9,
   "id": "e97d0a66-c355-4da7-b94e-1ef374c62809",
   "metadata": {},
   "outputs": [
    {
     "data": {
      "text/plain": [
       "27834"
      ]
     },
     "execution_count": 9,
     "metadata": {},
     "output_type": "execute_result"
    }
   ],
   "source": [
    "inpc = str(Input(1, 3).read())\n",
    "sum(list_of_scores(inpc, potions, 3))"
   ]
  },
  {
   "cell_type": "markdown",
   "id": "43eb74c2-8d4a-4df5-bee0-f33066eb0a34",
   "metadata": {},
   "source": [
    "## [Quest 2: The Runes of Power](https://everybody.codes/event/2024/quests/2)"
   ]
  },
  {
   "cell_type": "markdown",
   "id": "5e388844-928a-4aa4-bb4e-5216879bdd00",
   "metadata": {},
   "source": [
    "### Part 1"
   ]
  },
  {
   "cell_type": "code",
   "execution_count": 10,
   "id": "f6910988-216f-4844-8308-34a1172f8bca",
   "metadata": {},
   "outputs": [],
   "source": [
    "def parse(str):\n",
    "    str = str.split('\\n\\n')\n",
    "    words = str[0][6:].split(',')\n",
    "    str = str[1].split('\\n')\n",
    "    return words, str\n",
    "\n",
    "def count_words(words, str):\n",
    "    return [sum([line.count(word) for word in words]) for line in str]"
   ]
  },
  {
   "cell_type": "code",
   "execution_count": 11,
   "id": "9af66d30-b540-49ac-8b34-5f5c689a753b",
   "metadata": {},
   "outputs": [],
   "source": [
    "teststr = \"WORDS:THE,OWE,MES,ROD,HER\\n\\nAWAKEN THE POWER ADORNED WITH THE FLAMES BRIGHT IRE\"\n",
    "assert sum(count_words(*parse(teststr))) == 4"
   ]
  },
  {
   "cell_type": "code",
   "execution_count": 12,
   "id": "683f2092-c03a-4e5b-b4da-f240e457eec5",
   "metadata": {},
   "outputs": [
    {
     "data": {
      "text/plain": [
       "36"
      ]
     },
     "execution_count": 12,
     "metadata": {},
     "output_type": "execute_result"
    }
   ],
   "source": [
    "inpa = Input(2, 1).read()\n",
    "sum(count_words(*parse(inpa)))"
   ]
  },
  {
   "cell_type": "markdown",
   "id": "196b3ea6-16c9-48fd-b40d-418fecf3362e",
   "metadata": {},
   "source": [
    "### Part 2"
   ]
  },
  {
   "cell_type": "code",
   "execution_count": 13,
   "id": "ffe1885a-2692-4922-aba2-9004b85b62db",
   "metadata": {},
   "outputs": [],
   "source": [
    "def count_unique_letters(words, str, rev=1):\n",
    "    chars = 0\n",
    "    if rev == 1:\n",
    "        words = words + [word[::-1] for word in words]\n",
    "    for line in str:\n",
    "        ct = [0] * len(line)\n",
    "        for word in words:\n",
    "            id = line.find(word, 0)\n",
    "            while id > -1:\n",
    "                for i in range(len(word)):\n",
    "                    ct[id + i] = 1\n",
    "                id = line.find(word, id + 1)\n",
    "        chars += sum(ct)\n",
    "            \n",
    "    return chars"
   ]
  },
  {
   "cell_type": "code",
   "execution_count": 14,
   "id": "7e9b6d94-5695-4ed2-8977-e27470d2a573",
   "metadata": {},
   "outputs": [],
   "source": [
    "teststr = \"WORDS:THE,OWE,MES,ROD,HER,QAQ\\n\\nAWAKEN THE POWE ADORNED WITH THE FLAMES BRIGHT IRE\\nTHE FLAME SHIELDED THE HEART OF THE KINGS\\nPOWE PO WER P OWE R\\nTHERE IS THE END\\nQAQAQ\"\n",
    "assert count_unique_letters(*parse(teststr)) == 42"
   ]
  },
  {
   "cell_type": "code",
   "execution_count": 15,
   "id": "2d671225-a306-4b0e-96ba-23eace31c450",
   "metadata": {},
   "outputs": [
    {
     "data": {
      "text/plain": [
       "5225"
      ]
     },
     "execution_count": 15,
     "metadata": {},
     "output_type": "execute_result"
    }
   ],
   "source": [
    "inpb = Input(2, 2).read()\n",
    "count_unique_letters(*parse(inpb))"
   ]
  },
  {
   "cell_type": "markdown",
   "id": "1805560f-324a-4158-863f-2ed5d0584f0a",
   "metadata": {},
   "source": [
    "### Part 3"
   ]
  },
  {
   "cell_type": "code",
   "execution_count": 16,
   "id": "ac23541d-50c8-490a-b62c-7831fe1e0ca4",
   "metadata": {},
   "outputs": [],
   "source": [
    "def evaluate_line(words, line, counter=None):\n",
    "    if counter == None:\n",
    "        ct = [0] * len(line)\n",
    "    else:\n",
    "        ct = counter\n",
    "    line = line + line\n",
    "    for word in words:\n",
    "        id = line.find(word)\n",
    "        while id > -1:\n",
    "            for i in range(len(word)):\n",
    "                ct[(id + i) % len(ct)] = 1\n",
    "            id = line.find(word, id+1)\n",
    "    return ct\n",
    "    \n",
    "def evaluate_line2(words, line, counter=None):\n",
    "    if counter == None:\n",
    "        ct = [0] * len(line)\n",
    "    else:\n",
    "        ct = counter\n",
    "    #line = line + line\n",
    "    for word in words:\n",
    "        id = line.find(word)\n",
    "        while id > -1:\n",
    "            for i in range(len(word)):\n",
    "                ct[(id + i) % len(ct)] = 1\n",
    "            id = line.find(word, id+1)\n",
    "    return ct\n",
    "\n",
    "def evaluate_grid(str):\n",
    "    ct_grid = []\n",
    "    words, lines = parse(str)\n",
    "    words = words + [w[::-1] for w in words]\n",
    "    for line in lines:\n",
    "        ct_grid.append(evaluate_line(words, line))\n",
    "    lines = [\"\".join(e) for e in (zip(*lines))]\n",
    "    ct_grid = list(zip(*ct_grid))\n",
    "    for line in lines:\n",
    "        ct = list(ct_grid.pop(0))\n",
    "        ct_grid.append(evaluate_line2(words, line, ct))\n",
    "    return list(zip(*ct_grid))\n",
    "\n",
    "def gridscore(grid):\n",
    "    return sum([sum(e) for e in grid])"
   ]
  },
  {
   "cell_type": "code",
   "execution_count": 17,
   "id": "30c1be9c-a5a3-4ce7-9574-eac5dcfed731",
   "metadata": {},
   "outputs": [],
   "source": [
    "teststr = \"WORDS:THE,OWE,MES,ROD,RODEO\\n\\nHELWORLT\\nENIGWDXL\\nTRODEOAL\"\n",
    "assert gridscore(evaluate_grid(teststr)) == 10"
   ]
  },
  {
   "cell_type": "code",
   "execution_count": 18,
   "id": "b3ae188f-5fdf-432f-81a3-9a22d2ddc6b7",
   "metadata": {},
   "outputs": [
    {
     "data": {
      "text/plain": [
       "11305"
      ]
     },
     "execution_count": 18,
     "metadata": {},
     "output_type": "execute_result"
    }
   ],
   "source": [
    "inpc = Input(2, 3).read()\n",
    "gridscore(evaluate_grid(inpc))"
   ]
  },
  {
   "cell_type": "markdown",
   "id": "64bd1f78-2d0f-4970-ad0f-33a7c1907133",
   "metadata": {},
   "source": [
    "## [Quest 3: Mining Maestro](https://everybody.codes/event/2024/quests/3)"
   ]
  },
  {
   "cell_type": "code",
   "execution_count": 19,
   "id": "1829ee54-cf5a-42e5-98ca-c33666c7df1d",
   "metadata": {},
   "outputs": [],
   "source": [
    "def parser(str):\n",
    "    dict = {}\n",
    "    str = str.split(\"\\n\")\n",
    "    for i, line in enumerate(str):\n",
    "        for j, char in enumerate(line):\n",
    "            if char == \".\":\n",
    "                dict[(i, j)] = 0\n",
    "            else:\n",
    "                dict[(i, j)] = 1\n",
    "    return dict\n",
    "\n",
    "def digger(str):\n",
    "    str = parser(str)\n",
    "    change = True\n",
    "    while change == True:\n",
    "        change = False\n",
    "        for k, v in str.items():\n",
    "            if v >= 1:\n",
    "                i, j = k\n",
    "                scores = [str[m] for m in ((i - 1, j),(i + 1, j),(i, j-1),(i, j + 1))]\n",
    "                scores = [True if e >= v else False for e in scores]\n",
    "                if False not in scores:\n",
    "                    str[k] = v + 1\n",
    "                    change = True\n",
    "    return str\n",
    "\n"
   ]
  },
  {
   "cell_type": "code",
   "execution_count": 20,
   "id": "88098bda-f36c-46cc-a781-8677d6547809",
   "metadata": {},
   "outputs": [],
   "source": [
    "teststr = \"..........\\n..###.##..\\n...####...\\n..######..\\n..######..\\n...####...\\n..........\"\n",
    "assert sum(digger(teststr).values()) ==35"
   ]
  },
  {
   "cell_type": "code",
   "execution_count": 21,
   "id": "26f6dbb0-364e-4c76-9037-df45f42bc132",
   "metadata": {},
   "outputs": [
    {
     "data": {
      "text/plain": [
       "128"
      ]
     },
     "execution_count": 21,
     "metadata": {},
     "output_type": "execute_result"
    }
   ],
   "source": [
    "inpa = Input(3, 1).read()\n",
    "sum(digger(inpa).values())"
   ]
  }
 ],
 "metadata": {
  "kernelspec": {
   "display_name": "Python 3 (ipykernel)",
   "language": "python",
   "name": "python3"
  },
  "language_info": {
   "codemirror_mode": {
    "name": "ipython",
    "version": 3
   },
   "file_extension": ".py",
   "mimetype": "text/x-python",
   "name": "python",
   "nbconvert_exporter": "python",
   "pygments_lexer": "ipython3",
   "version": "3.12.7"
  }
 },
 "nbformat": 4,
 "nbformat_minor": 5
}
